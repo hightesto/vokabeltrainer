{
  "cells": [
    {
      "cell_type": "code",
      "execution_count": null,
      "metadata": {},
      "outputs": [],
      "source": [
        "# Vokabeltrainer für Google Colab\n",
        "import pandas as pd\n",
        "import random\n",
        "from io import BytesIO\n",
        "from google.colab import files\n",
        "\n",
        "print(\"Lade eine Excel-Tabelle mit den Vokabeln hoch. Eine Spalte soll 'Englisch' heißen (das Wort(/Satz), das angezeigt wird; können auch Wörter aus einer anderen Sprache sein) und die andere 'Deutsch' (das Wort(/Satz), das abgefragt wird)\")\n",
        "\n",
        "# Datei-Upload ermöglichen\n",
        "dateipfad = files.upload()\n",
        "\n",
        "# Erwarte eine einzige Datei\n",
        "for filename in dateipfad.keys():\n",
        "    df = pd.read_excel(BytesIO(dateipfad[filename]))\n",
        "\n",
        "# Beispiel-Verarbeitung (hier: nur anzeigen)\n",
        "print(\"Erste 5 Zeilen der geladenen Datei:\")\n",
        "print(df.head())"
      ]
    },
    {
      "cell_type": "code",
      "execution_count": null,
      "metadata": {},
      "outputs": [],
      "source": [
        "# Vokabeltrainer-Logik\n",
        "from colorama import Fore, Style, init\n",
        "init(autoreset=True)\n",
        "\n",
        "def vokabel_trainer():\n",
        "    print(\"Willkommen zum Vokabeltrainer!\")\n",
        "    print(\"Tippe 'exit', um das Programm zu beenden.\")\n",
        "\n",
        "    daten = df  # verwendet die bereits geladene Datei\n",
        "\n",
        "    try:\n",
        "        vokabeln = {row['Englisch']: row['Deutsch'] for _, row in daten.iterrows()}\n",
        "    except KeyError:\n",
        "        print(Fore.RED + \"Error: Die Excel-Datei muss zwei Spalten mit den Namen 'Englisch' und 'Deutsch' enthalten.\")\n",
        "        return\n",
        "\n",
        "    gewichtete_liste = list(vokabeln.keys())\n",
        "    letzter_begriff = None\n",
        "\n",
        "    while True:\n",
        "        while True:\n",
        "            englisches_wort = random.choice(gewichtete_liste)\n",
        "            if englisches_wort != letzter_begriff:\n",
        "                break\n",
        "\n",
        "        deutsches_wort = vokabeln[englisches_wort]\n",
        "\n",
        "        antwort = input(\"Was heißt \" + Fore.YELLOW + Style.BRIGHT + deutsches_wort + Fore.RESET + Style.NORMAL + \" auf Englisch? \" + Style.BRIGHT)\n",
        "\n",
        "        if antwort.lower() == \"exit\":\n",
        "            print(Style.NORMAL + Fore.YELLOW + \"Vokabeltrainer beendet\")\n",
        "            break\n",
        "\n",
        "        if antwort.lower() == englisches_wort.lower():\n",
        "            print(Fore.GREEN + \"Richtig! Gut gemacht!\")\n",
        "            if gewichtete_liste.count(englisches_wort) > 1:\n",
        "                gewichtete_liste.remove(englisches_wort)\n",
        "        else:\n",
        "            print(Fore.RED + \"Falsch. Die richtige Antwort ist \" + Style.BRIGHT + \"'\" + englisches_wort + \"'\")\n",
        "            gewichtete_liste.extend([englisches_wort] * 15)\n",
        "\n",
        "        letzter_begriff = englisches_wort"
      ]
    },
    {
      "cell_type": "code",
      "execution_count": null,
      "metadata": {},
      "outputs": [],
      "source": [
        "# Programm starten\n",
        "vokabel_trainer()"
      ]
    }
  ],
  "metadata": {
    "colab": {
      "name": "vokabeltrainer.ipynb",
      "provenance": []
    },
    "kernelspec": {
      "display_name": "Python 3",
      "language": "python",
      "name": "python3"
    },
    "language_info": {
      "name": "python"
    }
  },
  "nbformat": 4,
  "nbformat_minor": 1
}