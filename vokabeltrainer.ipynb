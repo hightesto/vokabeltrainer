{
  "nbformat": 4,
  "nbformat_minor": 0,
  "metadata": {
    "colab": {
      "provenance": [],
      "authorship_tag": "ABX9TyMa20k9hs91JX0aLq6uMqx2",
      "include_colab_link": true
    },
    "kernelspec": {
      "name": "python3",
      "display_name": "Python 3"
    },
    "language_info": {
      "name": "python"
    }
  },
  "cells": [
    {
      "cell_type": "markdown",
      "metadata": {
        "id": "view-in-github",
        "colab_type": "text"
      },
      "source": [
        "<a href=\"https://colab.research.google.com/github/hightesto/vokabeltrainer/blob/main/vokabeltrainer.ipynb\" target=\"_parent\"><img src=\"https://colab.research.google.com/assets/colab-badge.svg\" alt=\"Open In Colab\"/></a>"
      ]
    },
    {
      "cell_type": "code",
      "execution_count": null,
      "metadata": {
        "id": "MpgT5OMq6F7L"
      },
      "outputs": [],
      "source": [
        "import pandas as pd\n",
        "import random\n",
        "from colorama import Fore, Style, init\n",
        "from io import BytesIO\n",
        "from google.colab import files  # Nur relevant in Colab\n",
        "\n",
        "print(\"Lade eine Excel-Tabelle mit den Vokabeln hoch. Eine Spalte soll \"Englisch\" heißen (das Wort(/Satz) das angezeigt wird; können auch Wörter aus einer anderen Sprache sein) und die andere \"Deutsch\" (das Wort(/Satz) das abgefragt wird)\n",
        "\n",
        "# Datei-Upload ermöglichen\n",
        "dateipfad = files.upload()\n",
        "\n",
        "# Erwarte eine einzige Datei\n",
        "for filename in uploaded.keys():\n",
        "    df = pd.read_excel(BytesIO(dateipfad[filename]))\n",
        "\n",
        "# Beispiel-Verarbeitung (hier: nur anzeigen)\n",
        "print(\"Erste 5 Zeilen der geladenen Datei:\")\n",
        "print(df.head())\n",
        "\n",
        "# Hier beginnt Ihre Vokabeltrainer-Logik\n",
        "\n",
        "# Initialisieren von colorama\n",
        "init(autoreset=True)\n",
        "\n",
        "def vokabel_trainer():\n",
        "\n",
        "    print(\"Willkommen zum Vokabeltrainer!\")\n",
        "    print(\"Tippe 'exit', um das Programm zu beenden.\")\n",
        "\n",
        "    # Dateipfad abfragen\n",
        "    #dateipfad = input(\"Dateipfad zur Excel-Datei mit den Vokabeln: \")\n",
        "\n",
        "    # Excel-Datei laden\n",
        "    try:\n",
        "        daten = pd.read_excel(dateipfad)\n",
        "    except FileNotFoundError:\n",
        "        print(Fore.RED + \"Error: Datei \" + dateipfad + \" wurde nicht gefunden.\")\n",
        "        return\n",
        "    except Exception as e:\n",
        "        print(Fore.RED + \"Error: Fehler beim Laden der Datei: \" + e)\n",
        "        return\n",
        "\n",
        "    # Wörterbuch aus Excel-Tabelle erstellen\n",
        "    try:\n",
        "        vokabeln = {row['Englisch']: row['Deutsch'] for _, row in daten.iterrows()}\n",
        "    except KeyError:\n",
        "        print(Fore.RED + \"Error: Die Excel-Datei muss zwei Spalten mit den Namen 'Englisch' und 'Deutsch' enthalten.\")\n",
        "        return\n",
        "\n",
        "    # Gewichtete Liste, um falsche Wörter häufiger abzufragen\n",
        "    gewichtete_liste = list(vokabeln.keys())\n",
        "    letzter_begriff = None\n",
        "\n",
        "    while True:\n",
        "        # Zufällige Vokabel aus gewichteter Liste auswählen\n",
        "        while True:\n",
        "            englisches_wort = random.choice(gewichtete_liste)\n",
        "            if englisches_wort != letzter_begriff:\n",
        "                break\n",
        "\n",
        "        deutsches_wort = vokabeln[englisches_wort]\n",
        "\n",
        "        # Abfrage\n",
        "        antwort = input(\"Was heißt \" + Fore.YELLOW + Style.BRIGHT + deutsches_wort + Fore.RESET + Style.NORMAL + \" auf Englisch? \" + Style.BRIGHT)\n",
        "\n",
        "        # Programm beenden\n",
        "        if antwort.lower() == \"exit\" or antwort.lower() == \"Exit\":\n",
        "            print(Style.NORMAL + Fore.YELLOW + \"Vokabeltrainer beendet\")\n",
        "            break\n",
        "\n",
        "        # Überprüfung der Antwort\n",
        "        if antwort.lower() == englisches_wort.lower():\n",
        "            print(Fore.GREEN + \"Richtig! Gut gemacht!\")\n",
        "            if gewichtete_liste.count(englisches_wort) > 1:\n",
        "                gewichtete_liste.remove(englisches_wort)\n",
        "        else:\n",
        "            print(Fore.RED + \"Falsch. Die richtige Antwort ist \" + Style.BRIGHT + \"'\" + englisches_wort + \"'\")\n",
        "            gewichtete_liste.extend([englisches_wort] * 15)\n",
        "\n",
        "        letzter_begriff = englisches_wort\n",
        "\n",
        "# Programm starten\n",
        "vokabel_trainer()"
      ]
    }
  ]
}